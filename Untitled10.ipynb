{
  "nbformat": 4,
  "nbformat_minor": 0,
  "metadata": {
    "colab": {
      "provenance": [],
      "mount_file_id": "1hNJgkNSBpSDu_WEamQgHmbkWLtC44lbV",
      "authorship_tag": "ABX9TyNZFohwNruGkW5/XPzitMij",
      "include_colab_link": true
    },
    "kernelspec": {
      "name": "python3",
      "display_name": "Python 3"
    },
    "language_info": {
      "name": "python"
    }
  },
  "cells": [
    {
      "cell_type": "markdown",
      "metadata": {
        "id": "view-in-github",
        "colab_type": "text"
      },
      "source": [
        "<a href=\"https://colab.research.google.com/github/CodeMeisterGeneral/Airplane/blob/main/Untitled10.ipynb\" target=\"_parent\"><img src=\"https://colab.research.google.com/assets/colab-badge.svg\" alt=\"Open In Colab\"/></a>"
      ]
    },
    {
      "cell_type": "code",
      "execution_count": 7,
      "metadata": {
        "id": "wpCzm4OSJbXh",
        "colab": {
          "base_uri": "https://localhost:8080/"
        },
        "outputId": "cde0857d-8cfb-4abe-cb6c-6ed62e518037"
      },
      "outputs": [
        {
          "output_type": "stream",
          "name": "stdout",
          "text": [
            "            Date   Time                            Location  \\\n",
            "0      9/17/1908  17:18                 Fort Myer, Virginia   \n",
            "1     09/07/1909    NaN             Juvisy-sur-Orge, France   \n",
            "2     07/12/1912  06:30           Atlantic City, New Jersey   \n",
            "3     08/06/1913    NaN  Victoria, British Columbia, Canada   \n",
            "4     09/09/1913  18:30                  Over the North Sea   \n",
            "...          ...    ...                                 ...   \n",
            "4993  11/21/2022  10:15                  Medellín, Colombia   \n",
            "4994   1/15/2023  10:50                      Pokhara, Nepal   \n",
            "4995   9/16/2023    NaN                    Barcelos, Brazil   \n",
            "4996  10/29/2023  06:30                  Rio Branco, Brazil   \n",
            "4997  11/01/2023  14:15                    Morelos,  Mexico   \n",
            "\n",
            "                      Operator Flight #                        Route  \\\n",
            "0         Military - U.S. Army      NaN                Demonstration   \n",
            "1                          NaN      NaN                     Air show   \n",
            "2         Military - U.S. Navy      NaN                  Test flight   \n",
            "3                      Private      NaN                          NaN   \n",
            "4       Military - German Navy      NaN                          NaN   \n",
            "...                        ...      ...                          ...   \n",
            "4993              AeroPaca SAS      NaN           Medellín - Pizarro   \n",
            "4994             Yeti Airlines    YT691          Kathmandu - Pokhara   \n",
            "4995           Manaus Aerotaxi      NaN                          NaN   \n",
            "4996             ART Taxi Aero      NaN          Rio Branco - Envira   \n",
            "4997  Jet Rescue Air Ambulance      NaN  Toluca - Cuernavaca Airport   \n",
            "\n",
            "                               AC Type Registration       cn/ln  Aboard  \\\n",
            "0                     Wright Flyer III          NaN           1     2.0   \n",
            "1                       Wright Byplane          SC1         NaN     1.0   \n",
            "2                            Dirigible          NaN         NaN     5.0   \n",
            "3                     Curtiss seaplane          NaN         NaN     1.0   \n",
            "4               Zeppelin L-1 (airship)          NaN         NaN    20.0   \n",
            "...                                ...          ...         ...     ...   \n",
            "4993  Piper PA-31-350 Navajo Chieftain     HK-5121   31-7652004     8.0   \n",
            "4994               ATR 72-500-72-212-A       9NANC          754    72.0   \n",
            "4995     Embraer EMB-110P1 Bandeirante      PT-SOG       110490    14.0   \n",
            "4996         Cessna 208B Grand Caravan      PT-MEE     208B0344    12.0   \n",
            "4997                     \\tLearjet 35A       XA-IRE     35A-354     4.0   \n",
            "\n",
            "      Aboard Passangers  Aboard Crew  Fatalities  Fatalities Passangers  \\\n",
            "0                   1.0          1.0         1.0                    1.0   \n",
            "1                   0.0          1.0         1.0                    0.0   \n",
            "2                   0.0          5.0         5.0                    0.0   \n",
            "3                   0.0          1.0         1.0                    0.0   \n",
            "4                   NaN          NaN        14.0                    NaN   \n",
            "...                 ...          ...         ...                    ...   \n",
            "4993                6.0          2.0         8.0                    6.0   \n",
            "4994               68.0          4.0        72.0                   68.0   \n",
            "4995               12.0          2.0        14.0                   12.0   \n",
            "4996               10.0          2.0        12.0                   10.0   \n",
            "4997                2.0          2.0         4.0                    2.0   \n",
            "\n",
            "      Fatalities Crew  Ground  \\\n",
            "0                 0.0     0.0   \n",
            "1                 0.0     0.0   \n",
            "2                 5.0     0.0   \n",
            "3                 1.0     0.0   \n",
            "4                 NaN     0.0   \n",
            "...               ...     ...   \n",
            "4993              2.0     0.0   \n",
            "4994              4.0     0.0   \n",
            "4995              2.0     0.0   \n",
            "4996              2.0     0.0   \n",
            "4997              2.0     0.0   \n",
            "\n",
            "                                                Summary  \n",
            "0     During a demonstration flight, a U.S. Army fly...  \n",
            "1     Eugene Lefebvre was the first pilot to ever be...  \n",
            "2     First U.S. dirigible Akron exploded just offsh...  \n",
            "3     The first fatal airplane accident in Canada oc...  \n",
            "4     The airship flew into a thunderstorm and encou...  \n",
            "...                                                 ...  \n",
            "4993  The plane was chartered to carry a team of six...  \n",
            "4994  Before approach, the pilot requested a change ...  \n",
            "4995  The air taxi crashed in heavy rain while attem...  \n",
            "4996  The air taxi crashed into a heavy wooded area ...  \n",
            "4997  A business jet operating as an air ambulance, ...  \n",
            "\n",
            "[4998 rows x 17 columns]\n"
          ]
        }
      ],
      "source": [
        "import pandas as pd\n",
        "\n",
        "# Specify the encoding as 'latin1' when reading the CSV file\n",
        "data = pd.read_csv('/content/Airplane.csv', encoding='latin1')\n",
        "\n"
      ]
    },
    {
      "cell_type": "code",
      "source": [
        "from google.colab import drive\n",
        "drive.mount('/content/drive')"
      ],
      "metadata": {
        "colab": {
          "base_uri": "https://localhost:8080/"
        },
        "id": "-9wLbzpcB8aO",
        "outputId": "46875892-90c6-46ad-ff4a-a3d1ca82e54d"
      },
      "execution_count": 4,
      "outputs": [
        {
          "output_type": "stream",
          "name": "stdout",
          "text": [
            "Mounted at /content/drive\n"
          ]
        }
      ]
    }
  ]
}